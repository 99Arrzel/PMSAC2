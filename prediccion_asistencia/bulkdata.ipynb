{
 "cells": [
  {
   "cell_type": "code",
   "execution_count": 7,
   "metadata": {},
   "outputs": [],
   "source": [
    "# Merge de datos csv, sobre los climas\n",
    "\n",
    "# La data fue sacada de https://waqi.info/ y no de weather api.\n",
    "import pandas as pd\n",
    "co2 = pd.read_csv('./co2.csv')\n",
    "pm25 = pd.read_csv('./pm25.csv')\n",
    "humidity = pd.read_csv('./relative_humidity.csv')\n",
    "temp = pd.read_csv('./temp.csv')\n",
    "\n",
    "df = pd.merge(co2, pm25, on='date', suffixes=('_co2', '_pm25'))\n",
    "df = pd.merge(df, humidity, on='date', suffixes=('', '_humidity'))\n",
    "df = pd.merge(df, temp, on='date', suffixes=('', '_temp'))\n",
    "\n",
    "df.to_csv('./data.csv', index=False)"
   ]
  }
 ],
 "metadata": {
  "kernelspec": {
   "display_name": "Python 3",
   "language": "python",
   "name": "python3"
  },
  "language_info": {
   "codemirror_mode": {
    "name": "ipython",
    "version": 3
   },
   "file_extension": ".py",
   "mimetype": "text/x-python",
   "name": "python",
   "nbconvert_exporter": "python",
   "pygments_lexer": "ipython3",
   "version": "3.12.3"
  }
 },
 "nbformat": 4,
 "nbformat_minor": 2
}
