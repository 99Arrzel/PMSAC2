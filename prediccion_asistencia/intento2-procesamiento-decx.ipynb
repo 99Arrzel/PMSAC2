{
 "cells": [
  {
   "cell_type": "code",
   "execution_count": 1,
   "metadata": {},
   "outputs": [
    {
     "name": "stdout",
     "output_type": "stream",
     "text": [
      "Index(['id', 'id_user_bio', 'fecha_marcacion', 'id_sucursal', 'original_date',\n",
      "       'co2_min', 'co2_max', 'co2_median', 'co2_q1', 'co2_q3', 'co2_stdev',\n",
      "       'co2_count', 'pm25_min', 'pm25_max', 'pm25_median', 'pm25_q1',\n",
      "       'pm25_q3', 'pm25_stdev', 'pm25_count', 'relative_humidity_min',\n",
      "       'relative_humidity_max', 'relative_humidity_median',\n",
      "       'relative_humidity_q1', 'relative_humidity_q3',\n",
      "       'relative_humidity_stdev', 'relative_humidity_count', 'temp_min',\n",
      "       'temp_max', 'temp_median', 'temp_q1', 'temp_q3', 'temp_stdev',\n",
      "       'temp_count'],\n",
      "      dtype='object')\n"
     ]
    }
   ],
   "source": [
    "# load csv\n",
    "import pandas as pd\n",
    "final_csv = pd.read_csv('./bio_marcaciones_co2_pm25_humidity_temp.csv')\n",
    "\n",
    "# remove dates columns\n",
    "final_csv = final_csv.drop(\n",
    "    ['co2_date', 'pm25_date', 'relative_humidity_date', 'temp_date'], axis=1)\n",
    "# print cols\n",
    "print(final_csv.columns)\n",
    "# ahora vamos a generar el rango de fechas donde no funciono nada"
   ]
  },
  {
   "cell_type": "code",
   "execution_count": 6,
   "metadata": {},
   "outputs": [
    {
     "name": "stdout",
     "output_type": "stream",
     "text": [
      "Index(['date', 'min_co2', 'max_co2', 'median_co2', 'q1_co2', 'q3_co2',\n",
      "       'stdev_co2', 'count_co2', 'min_pm25', 'max_pm25', 'median_pm25',\n",
      "       'q1_pm25', 'q3_pm25', 'stdev_pm25', 'count_pm25', 'min', 'max',\n",
      "       'median', 'q1', 'q3', 'stdev', 'count', 'min_temp', 'max_temp',\n",
      "       'median_temp', 'q1_temp', 'q3_temp', 'stdev_temp', 'count_temp'],\n",
      "      dtype='object')\n",
      "Index(['id', 'id_user_bio', 'fecha_marcacion', 'id_sucursal'], dtype='object')\n"
     ]
    }
   ],
   "source": [
    "import pandas as pd\n",
    "from sklearn.model_selection import train_test_split\n",
    "from sklearn.preprocessing import StandardScaler\n",
    "\n",
    "# Load the data\n",
    "data = pd.read_csv('./data.csv')\n",
    "print(data.columns)\n",
    "\n",
    "\n",
    "# Marcaciones\n",
    "\n",
    "marcaciones = pd.read_csv('./bio_marcaciones.csv')\n",
    "# Parte importante!!! filtramos marcaciones de acuerdo a usuario, ya que cada caso es distinto. usaremos el de DIego que es 177\n",
    "marcaciones = marcaciones[marcaciones['id_user_bio'] == 177]\n",
    "# Tambien filtramos desde la fecha que comenzo a trabajar, que en este caso es 2023 06 18\n",
    "\n",
    "marcaciones = marcaciones[marcaciones['fecha_marcacion'] > '2023-06-18']\n",
    "data = data[data['date'] > '2023-06-18']\n",
    "\n",
    "print(marcaciones.columns)"
   ]
  },
  {
   "cell_type": "code",
   "execution_count": 7,
   "metadata": {},
   "outputs": [
    {
     "name": "stdout",
     "output_type": "stream",
     "text": [
      "Index(['date', 'min_co2', 'max_co2', 'median_co2', 'q1_co2', 'q3_co2',\n",
      "       'stdev_co2', 'count_co2', 'min_pm25', 'max_pm25', 'median_pm25',\n",
      "       'q1_pm25', 'q3_pm25', 'stdev_pm25', 'count_pm25', 'min', 'max',\n",
      "       'median', 'q1', 'q3', 'stdev', 'count', 'min_temp', 'max_temp',\n",
      "       'median_temp', 'q1_temp', 'q3_temp', 'stdev_temp', 'count_temp',\n",
      "       'fecha_marcacion', 'asistencia'],\n",
      "      dtype='object')\n"
     ]
    }
   ],
   "source": [
    "import pandas as pd\n",
    "import numpy as np\n",
    "import tensorflow as tf\n",
    "\n",
    "clima_df = data\n",
    "asistencia_df = marcaciones\n",
    "\n",
    "# Fechas fix\n",
    "\n",
    "clima_df['date'] = pd.to_datetime(clima_df['date'], utc=True)\n",
    "asistencia_df['fecha_marcacion'] = pd.to_datetime(\n",
    "    asistencia_df['fecha_marcacion'], utc=True)\n",
    "\n",
    "\n",
    "asistencia_diaria = asistencia_df.groupby(\n",
    "    asistencia_df['fecha_marcacion'].dt.date).size().reset_index(name='asistencia')\n",
    "asistencia_diaria['fecha_marcacion'] = pd.to_datetime(\n",
    "    asistencia_diaria['fecha_marcacion']).dt.tz_localize('UTC')\n",
    "\n",
    "data = clima_df.merge(asistencia_diaria, left_on='date',\n",
    "                      right_on='fecha_marcacion', how='left').fillna(0)\n",
    "\n",
    "# Salvamos a un csv\n",
    "data.to_csv('./data_procesar_diego.csv', index=False)\n",
    "print (data.columns)\n",
    "# Fijamos si hubo asistencia dicho dia en base a los 0s en dichas fechas"
   ]
  },
  {
   "cell_type": "code",
   "execution_count": 49,
   "metadata": {},
   "outputs": [],
   "source": []
  }
 ],
 "metadata": {
  "kernelspec": {
   "display_name": "Python 3",
   "language": "python",
   "name": "python3"
  },
  "language_info": {
   "codemirror_mode": {
    "name": "ipython",
    "version": 3
   },
   "file_extension": ".py",
   "mimetype": "text/x-python",
   "name": "python",
   "nbconvert_exporter": "python",
   "pygments_lexer": "ipython3",
   "version": "3.12.3"
  }
 },
 "nbformat": 4,
 "nbformat_minor": 2
}
